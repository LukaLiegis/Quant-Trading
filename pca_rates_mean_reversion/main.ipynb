{
 "cells": [
  {
   "cell_type": "code",
   "id": "initial_id",
   "metadata": {
    "collapsed": true,
    "ExecuteTime": {
     "end_time": "2024-06-12T15:07:18.835767Z",
     "start_time": "2024-06-12T15:07:17.154305Z"
    }
   },
   "source": [
    "import config\n",
    "import yfinance as yf\n",
    "import quandl as ql\n",
    "import pandas as pd\n",
    "import matplotlib.pyplot as plt\n",
    "import numpy as np\n",
    "from sklearn.decomposition import PCA"
   ],
   "outputs": [],
   "execution_count": 1
  },
  {
   "metadata": {
    "ExecuteTime": {
     "end_time": "2024-06-12T15:07:25.224953Z",
     "start_time": "2024-06-12T15:07:25.222957Z"
    }
   },
   "cell_type": "code",
   "source": "ql.ApiConfig.api_key = config.api_key",
   "id": "1d757dcf2a335cf6",
   "outputs": [],
   "execution_count": 2
  },
  {
   "metadata": {
    "ExecuteTime": {
     "end_time": "2024-06-12T15:08:34.118244Z",
     "start_time": "2024-06-12T15:08:31.783361Z"
    }
   },
   "cell_type": "code",
   "source": [
    "# Get data for yield curve\n",
    "yield_ = ql.get(\"USTREASURY/YIELD\")"
   ],
   "id": "7a3b7ed48bb92838",
   "outputs": [],
   "execution_count": 10
  },
  {
   "metadata": {
    "ExecuteTime": {
     "end_time": "2024-06-12T15:08:34.121521Z",
     "start_time": "2024-06-12T15:08:34.119147Z"
    }
   },
   "cell_type": "code",
   "source": "yield_.shape",
   "id": "dcb0bdbf04c5c5c6",
   "outputs": [
    {
     "data": {
      "text/plain": [
       "(8511, 12)"
      ]
     },
     "execution_count": 11,
     "metadata": {},
     "output_type": "execute_result"
    }
   ],
   "execution_count": 11
  },
  {
   "metadata": {
    "ExecuteTime": {
     "end_time": "2024-06-12T15:08:34.127856Z",
     "start_time": "2024-06-12T15:08:34.122258Z"
    }
   },
   "cell_type": "code",
   "source": "yield_.tail()",
   "id": "bbd7e3f7380f8046",
   "outputs": [
    {
     "data": {
      "text/plain": [
       "            1 MO  2 MO  3 MO  6 MO  1 YR  2 YR  3 YR  5 YR  7 YR  10 YR  \\\n",
       "Date                                                                      \n",
       "2023-12-29  5.60  5.59  5.40  5.26  4.79  4.23  4.01  3.84  3.88   3.88   \n",
       "2024-01-02  5.55  5.54  5.46  5.24  4.80  4.33  4.09  3.93  3.95   3.95   \n",
       "2024-01-03  5.54  5.54  5.48  5.25  4.81  4.33  4.07  3.90  3.92   3.91   \n",
       "2024-01-04  5.56  5.48  5.48  5.25  4.85  4.38  4.14  3.97  3.99   3.99   \n",
       "2024-01-05  5.54  5.48  5.47  5.24  4.84  4.40  4.17  4.02  4.04   4.05   \n",
       "\n",
       "            20 YR  30 YR  \n",
       "Date                      \n",
       "2023-12-29   4.20   4.03  \n",
       "2024-01-02   4.25   4.08  \n",
       "2024-01-03   4.21   4.05  \n",
       "2024-01-04   4.30   4.13  \n",
       "2024-01-05   4.37   4.21  "
      ],
      "text/html": [
       "<div>\n",
       "<style scoped>\n",
       "    .dataframe tbody tr th:only-of-type {\n",
       "        vertical-align: middle;\n",
       "    }\n",
       "\n",
       "    .dataframe tbody tr th {\n",
       "        vertical-align: top;\n",
       "    }\n",
       "\n",
       "    .dataframe thead th {\n",
       "        text-align: right;\n",
       "    }\n",
       "</style>\n",
       "<table border=\"1\" class=\"dataframe\">\n",
       "  <thead>\n",
       "    <tr style=\"text-align: right;\">\n",
       "      <th></th>\n",
       "      <th>1 MO</th>\n",
       "      <th>2 MO</th>\n",
       "      <th>3 MO</th>\n",
       "      <th>6 MO</th>\n",
       "      <th>1 YR</th>\n",
       "      <th>2 YR</th>\n",
       "      <th>3 YR</th>\n",
       "      <th>5 YR</th>\n",
       "      <th>7 YR</th>\n",
       "      <th>10 YR</th>\n",
       "      <th>20 YR</th>\n",
       "      <th>30 YR</th>\n",
       "    </tr>\n",
       "    <tr>\n",
       "      <th>Date</th>\n",
       "      <th></th>\n",
       "      <th></th>\n",
       "      <th></th>\n",
       "      <th></th>\n",
       "      <th></th>\n",
       "      <th></th>\n",
       "      <th></th>\n",
       "      <th></th>\n",
       "      <th></th>\n",
       "      <th></th>\n",
       "      <th></th>\n",
       "      <th></th>\n",
       "    </tr>\n",
       "  </thead>\n",
       "  <tbody>\n",
       "    <tr>\n",
       "      <th>2023-12-29</th>\n",
       "      <td>5.60</td>\n",
       "      <td>5.59</td>\n",
       "      <td>5.40</td>\n",
       "      <td>5.26</td>\n",
       "      <td>4.79</td>\n",
       "      <td>4.23</td>\n",
       "      <td>4.01</td>\n",
       "      <td>3.84</td>\n",
       "      <td>3.88</td>\n",
       "      <td>3.88</td>\n",
       "      <td>4.20</td>\n",
       "      <td>4.03</td>\n",
       "    </tr>\n",
       "    <tr>\n",
       "      <th>2024-01-02</th>\n",
       "      <td>5.55</td>\n",
       "      <td>5.54</td>\n",
       "      <td>5.46</td>\n",
       "      <td>5.24</td>\n",
       "      <td>4.80</td>\n",
       "      <td>4.33</td>\n",
       "      <td>4.09</td>\n",
       "      <td>3.93</td>\n",
       "      <td>3.95</td>\n",
       "      <td>3.95</td>\n",
       "      <td>4.25</td>\n",
       "      <td>4.08</td>\n",
       "    </tr>\n",
       "    <tr>\n",
       "      <th>2024-01-03</th>\n",
       "      <td>5.54</td>\n",
       "      <td>5.54</td>\n",
       "      <td>5.48</td>\n",
       "      <td>5.25</td>\n",
       "      <td>4.81</td>\n",
       "      <td>4.33</td>\n",
       "      <td>4.07</td>\n",
       "      <td>3.90</td>\n",
       "      <td>3.92</td>\n",
       "      <td>3.91</td>\n",
       "      <td>4.21</td>\n",
       "      <td>4.05</td>\n",
       "    </tr>\n",
       "    <tr>\n",
       "      <th>2024-01-04</th>\n",
       "      <td>5.56</td>\n",
       "      <td>5.48</td>\n",
       "      <td>5.48</td>\n",
       "      <td>5.25</td>\n",
       "      <td>4.85</td>\n",
       "      <td>4.38</td>\n",
       "      <td>4.14</td>\n",
       "      <td>3.97</td>\n",
       "      <td>3.99</td>\n",
       "      <td>3.99</td>\n",
       "      <td>4.30</td>\n",
       "      <td>4.13</td>\n",
       "    </tr>\n",
       "    <tr>\n",
       "      <th>2024-01-05</th>\n",
       "      <td>5.54</td>\n",
       "      <td>5.48</td>\n",
       "      <td>5.47</td>\n",
       "      <td>5.24</td>\n",
       "      <td>4.84</td>\n",
       "      <td>4.40</td>\n",
       "      <td>4.17</td>\n",
       "      <td>4.02</td>\n",
       "      <td>4.04</td>\n",
       "      <td>4.05</td>\n",
       "      <td>4.37</td>\n",
       "      <td>4.21</td>\n",
       "    </tr>\n",
       "  </tbody>\n",
       "</table>\n",
       "</div>"
      ]
     },
     "execution_count": 12,
     "metadata": {},
     "output_type": "execute_result"
    }
   ],
   "execution_count": 12
  },
  {
   "metadata": {
    "ExecuteTime": {
     "end_time": "2024-06-12T15:08:35.341340Z",
     "start_time": "2024-06-12T15:08:35.264144Z"
    }
   },
   "cell_type": "code",
   "source": [
    "# Plot yield curve\n",
    "today = yield_.iloc[-1,:]\n",
    "month_ago = yield_.iloc[-30,:]\n",
    "df = pd.concat([today, month_ago], axis=1)\n",
    "df.columns = ['today', 'month_ago']\n",
    "\n",
    "df.plot(style={'today': 'ro-', 'month_ago': 'bx--'}\n",
    "        ,title='Treasury Yield Curve, %');"
   ],
   "id": "69b632bf965155df",
   "outputs": [
    {
     "data": {
      "text/plain": [
       "<Figure size 640x480 with 1 Axes>"
      ],
      "image/png": "[encoded data removed]"
     },
     "metadata": {},
     "output_type": "display_data"
    }
   ],
   "execution_count": 13
  },
  {
   "metadata": {},
   "cell_type": "code",
   "outputs": [],
   "execution_count": null,
   "source": "",
   "id": "9b9800cd97a0530f"
  }
 ],
 "metadata": {
  "kernelspec": {
   "display_name": "Python 3",
   "language": "python",
   "name": "python3"
  },
  "language_info": {
   "codemirror_mode": {
    "name": "ipython",
    "version": 2
   },
   "file_extension": ".py",
   "mimetype": "text/x-python",
   "name": "python",
   "nbconvert_exporter": "python",
   "pygments_lexer": "ipython2",
   "version": "2.7.6"
  }
 },
 "nbformat": 4,
 "nbformat_minor": 5
}
