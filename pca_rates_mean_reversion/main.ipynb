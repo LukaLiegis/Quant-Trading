{
 "cells": [
  {
   "cell_type": "code",
   "id": "initial_id",
   "metadata": {
    "collapsed": true,
    "ExecuteTime": {
     "end_time": "2024-06-14T16:15:48.802683Z",
     "start_time": "2024-06-14T16:15:47.705046Z"
    }
   },
   "source": [
    "import config\n",
    "import numpy as np\n",
    "import quandl as ql\n",
    "import pandas as pd\n",
    "import matplotlib.pyplot as plt\n",
    "from sklearn import preprocessing\n",
    "from sklearn.decomposition import PCA"
   ],
   "outputs": [],
   "execution_count": 2
  },
  {
   "metadata": {
    "ExecuteTime": {
     "end_time": "2024-06-14T16:15:51.106964Z",
     "start_time": "2024-06-14T16:15:48.803670Z"
    }
   },
   "cell_type": "code",
   "source": [
    "# sort out api key\n",
    "ql.ApiConfig.api_key = config.api_key\n",
    "# get data for yield curve\n",
    "yield_ = ql.get(\"USTREASURY/YIELD\")\n",
    "\n",
    "yield_ = yield_.dropna()"
   ],
   "id": "1d757dcf2a335cf6",
   "outputs": [],
   "execution_count": 3
  },
  {
   "metadata": {
    "ExecuteTime": {
     "end_time": "2024-06-14T16:15:51.112211Z",
     "start_time": "2024-06-14T16:15:51.107596Z"
    }
   },
   "cell_type": "code",
   "source": "yield_.shape",
   "id": "dcb0bdbf04c5c5c6",
   "outputs": [
    {
     "data": {
      "text/plain": [
       "(1306, 12)"
      ]
     },
     "execution_count": 4,
     "metadata": {},
     "output_type": "execute_result"
    }
   ],
   "execution_count": 4
  },
  {
   "metadata": {
    "ExecuteTime": {
     "end_time": "2024-06-14T16:15:51.121254Z",
     "start_time": "2024-06-14T16:15:51.113521Z"
    }
   },
   "cell_type": "code",
   "source": "yield_.tail()",
   "id": "bbd7e3f7380f8046",
   "outputs": [
    {
     "data": {
      "text/plain": [
       "            1 MO  2 MO  3 MO  6 MO  1 YR  2 YR  3 YR  5 YR  7 YR  10 YR  \\\n",
       "Date                                                                      \n",
       "2023-12-29  5.60  5.59  5.40  5.26  4.79  4.23  4.01  3.84  3.88   3.88   \n",
       "2024-01-02  5.55  5.54  5.46  5.24  4.80  4.33  4.09  3.93  3.95   3.95   \n",
       "2024-01-03  5.54  5.54  5.48  5.25  4.81  4.33  4.07  3.90  3.92   3.91   \n",
       "2024-01-04  5.56  5.48  5.48  5.25  4.85  4.38  4.14  3.97  3.99   3.99   \n",
       "2024-01-05  5.54  5.48  5.47  5.24  4.84  4.40  4.17  4.02  4.04   4.05   \n",
       "\n",
       "            20 YR  30 YR  \n",
       "Date                      \n",
       "2023-12-29   4.20   4.03  \n",
       "2024-01-02   4.25   4.08  \n",
       "2024-01-03   4.21   4.05  \n",
       "2024-01-04   4.30   4.13  \n",
       "2024-01-05   4.37   4.21  "
      ],
      "text/html": [
       "<div>\n",
       "<style scoped>\n",
       "    .dataframe tbody tr th:only-of-type {\n",
       "        vertical-align: middle;\n",
       "    }\n",
       "\n",
       "    .dataframe tbody tr th {\n",
       "        vertical-align: top;\n",
       "    }\n",
       "\n",
       "    .dataframe thead th {\n",
       "        text-align: right;\n",
       "    }\n",
       "</style>\n",
       "<table border=\"1\" class=\"dataframe\">\n",
       "  <thead>\n",
       "    <tr style=\"text-align: right;\">\n",
       "      <th></th>\n",
       "      <th>1 MO</th>\n",
       "      <th>2 MO</th>\n",
       "      <th>3 MO</th>\n",
       "      <th>6 MO</th>\n",
       "      <th>1 YR</th>\n",
       "      <th>2 YR</th>\n",
       "      <th>3 YR</th>\n",
       "      <th>5 YR</th>\n",
       "      <th>7 YR</th>\n",
       "      <th>10 YR</th>\n",
       "      <th>20 YR</th>\n",
       "      <th>30 YR</th>\n",
       "    </tr>\n",
       "    <tr>\n",
       "      <th>Date</th>\n",
       "      <th></th>\n",
       "      <th></th>\n",
       "      <th></th>\n",
       "      <th></th>\n",
       "      <th></th>\n",
       "      <th></th>\n",
       "      <th></th>\n",
       "      <th></th>\n",
       "      <th></th>\n",
       "      <th></th>\n",
       "      <th></th>\n",
       "      <th></th>\n",
       "    </tr>\n",
       "  </thead>\n",
       "  <tbody>\n",
       "    <tr>\n",
       "      <th>2023-12-29</th>\n",
       "      <td>5.60</td>\n",
       "      <td>5.59</td>\n",
       "      <td>5.40</td>\n",
       "      <td>5.26</td>\n",
       "      <td>4.79</td>\n",
       "      <td>4.23</td>\n",
       "      <td>4.01</td>\n",
       "      <td>3.84</td>\n",
       "      <td>3.88</td>\n",
       "      <td>3.88</td>\n",
       "      <td>4.20</td>\n",
       "      <td>4.03</td>\n",
       "    </tr>\n",
       "    <tr>\n",
       "      <th>2024-01-02</th>\n",
       "      <td>5.55</td>\n",
       "      <td>5.54</td>\n",
       "      <td>5.46</td>\n",
       "      <td>5.24</td>\n",
       "      <td>4.80</td>\n",
       "      <td>4.33</td>\n",
       "      <td>4.09</td>\n",
       "      <td>3.93</td>\n",
       "      <td>3.95</td>\n",
       "      <td>3.95</td>\n",
       "      <td>4.25</td>\n",
       "      <td>4.08</td>\n",
       "    </tr>\n",
       "    <tr>\n",
       "      <th>2024-01-03</th>\n",
       "      <td>5.54</td>\n",
       "      <td>5.54</td>\n",
       "      <td>5.48</td>\n",
       "      <td>5.25</td>\n",
       "      <td>4.81</td>\n",
       "      <td>4.33</td>\n",
       "      <td>4.07</td>\n",
       "      <td>3.90</td>\n",
       "      <td>3.92</td>\n",
       "      <td>3.91</td>\n",
       "      <td>4.21</td>\n",
       "      <td>4.05</td>\n",
       "    </tr>\n",
       "    <tr>\n",
       "      <th>2024-01-04</th>\n",
       "      <td>5.56</td>\n",
       "      <td>5.48</td>\n",
       "      <td>5.48</td>\n",
       "      <td>5.25</td>\n",
       "      <td>4.85</td>\n",
       "      <td>4.38</td>\n",
       "      <td>4.14</td>\n",
       "      <td>3.97</td>\n",
       "      <td>3.99</td>\n",
       "      <td>3.99</td>\n",
       "      <td>4.30</td>\n",
       "      <td>4.13</td>\n",
       "    </tr>\n",
       "    <tr>\n",
       "      <th>2024-01-05</th>\n",
       "      <td>5.54</td>\n",
       "      <td>5.48</td>\n",
       "      <td>5.47</td>\n",
       "      <td>5.24</td>\n",
       "      <td>4.84</td>\n",
       "      <td>4.40</td>\n",
       "      <td>4.17</td>\n",
       "      <td>4.02</td>\n",
       "      <td>4.04</td>\n",
       "      <td>4.05</td>\n",
       "      <td>4.37</td>\n",
       "      <td>4.21</td>\n",
       "    </tr>\n",
       "  </tbody>\n",
       "</table>\n",
       "</div>"
      ]
     },
     "execution_count": 5,
     "metadata": {},
     "output_type": "execute_result"
    }
   ],
   "execution_count": 5
  },
  {
   "metadata": {
    "ExecuteTime": {
     "end_time": "2024-06-14T16:15:51.286089Z",
     "start_time": "2024-06-14T16:15:51.122067Z"
    }
   },
   "cell_type": "code",
   "source": [
    "# Plot yield curve\n",
    "today = yield_.iloc[-1,:]\n",
    "month_ago = yield_.iloc[-30,:]\n",
    "df = pd.concat([today, month_ago], axis=1)\n",
    "df.columns = ['today', 'month_ago']\n",
    "\n",
    "df.plot(style={'today': 'ro-', 'month_ago': 'bx--'}\n",
    "        ,title='Treasury Yield Curve, %');"
   ],
   "id": "69b632bf965155df",
   "outputs": [
    {
     "data": {
      "text/plain": [
       "<Figure size 640x480 with 1 Axes>"
      ],
      "image/png": "[encoded data removed]"
     },
     "metadata": {},
     "output_type": "display_data"
    }
   ],
   "execution_count": 6
  },
  {
   "metadata": {
    "ExecuteTime": {
     "end_time": "2024-06-14T16:23:07.067013Z",
     "start_time": "2024-06-14T16:23:07.060638Z"
    }
   },
   "cell_type": "code",
   "source": "scaled_data = preprocessing.scale(yield_.T)",
   "id": "ada0502b916d0c1f",
   "outputs": [],
   "execution_count": 28
  },
  {
   "metadata": {
    "ExecuteTime": {
     "end_time": "2024-06-14T16:23:07.508662Z",
     "start_time": "2024-06-14T16:23:07.506868Z"
    }
   },
   "cell_type": "code",
   "source": "pca = PCA()",
   "id": "8774898022e68ce5",
   "outputs": [],
   "execution_count": 29
  },
  {
   "metadata": {
    "ExecuteTime": {
     "end_time": "2024-06-14T16:23:08.030275Z",
     "start_time": "2024-06-14T16:23:07.960762Z"
    }
   },
   "cell_type": "code",
   "source": "pca.fit(scaled_data)",
   "id": "df5fb3f087ebb612",
   "outputs": [
    {
     "data": {
      "text/plain": [
       "PCA()"
      ],
      "text/html": [
       "<style>#sk-container-id-3 {color: black;background-color: white;}#sk-container-id-3 pre{padding: 0;}#sk-container-id-3 div.sk-toggleable {background-color: white;}#sk-container-id-3 label.sk-toggleable__label {cursor: pointer;display: block;width: 100%;margin-bottom: 0;padding: 0.3em;box-sizing: border-box;text-align: center;}#sk-container-id-3 label.sk-toggleable__label-arrow:before {content: \"▸\";float: left;margin-right: 0.25em;color: #696969;}#sk-container-id-3 label.sk-toggleable__label-arrow:hover:before {color: black;}#sk-container-id-3 div.sk-estimator:hover label.sk-toggleable__label-arrow:before {color: black;}#sk-container-id-3 div.sk-toggleable__content {max-height: 0;max-width: 0;overflow: hidden;text-align: left;background-color: #f0f8ff;}#sk-container-id-3 div.sk-toggleable__content pre {margin: 0.2em;color: black;border-radius: 0.25em;background-color: #f0f8ff;}#sk-container-id-3 input.sk-toggleable__control:checked~div.sk-toggleable__content {max-height: 200px;max-width: 100%;overflow: auto;}#sk-container-id-3 input.sk-toggleable__control:checked~label.sk-toggleable__label-arrow:before {content: \"▾\";}#sk-container-id-3 div.sk-estimator input.sk-toggleable__control:checked~label.sk-toggleable__label {background-color: #d4ebff;}#sk-container-id-3 div.sk-label input.sk-toggleable__control:checked~label.sk-toggleable__label {background-color: #d4ebff;}#sk-container-id-3 input.sk-hidden--visually {border: 0;clip: rect(1px 1px 1px 1px);clip: rect(1px, 1px, 1px, 1px);height: 1px;margin: -1px;overflow: hidden;padding: 0;position: absolute;width: 1px;}#sk-container-id-3 div.sk-estimator {font-family: monospace;background-color: #f0f8ff;border: 1px dotted black;border-radius: 0.25em;box-sizing: border-box;margin-bottom: 0.5em;}#sk-container-id-3 div.sk-estimator:hover {background-color: #d4ebff;}#sk-container-id-3 div.sk-parallel-item::after {content: \"\";width: 100%;border-bottom: 1px solid gray;flex-grow: 1;}#sk-container-id-3 div.sk-label:hover label.sk-toggleable__label {background-color: #d4ebff;}#sk-container-id-3 div.sk-serial::before {content: \"\";position: absolute;border-left: 1px solid gray;box-sizing: border-box;top: 0;bottom: 0;left: 50%;z-index: 0;}#sk-container-id-3 div.sk-serial {display: flex;flex-direction: column;align-items: center;background-color: white;padding-right: 0.2em;padding-left: 0.2em;position: relative;}#sk-container-id-3 div.sk-item {position: relative;z-index: 1;}#sk-container-id-3 div.sk-parallel {display: flex;align-items: stretch;justify-content: center;background-color: white;position: relative;}#sk-container-id-3 div.sk-item::before, #sk-container-id-3 div.sk-parallel-item::before {content: \"\";position: absolute;border-left: 1px solid gray;box-sizing: border-box;top: 0;bottom: 0;left: 50%;z-index: -1;}#sk-container-id-3 div.sk-parallel-item {display: flex;flex-direction: column;z-index: 1;position: relative;background-color: white;}#sk-container-id-3 div.sk-parallel-item:first-child::after {align-self: flex-end;width: 50%;}#sk-container-id-3 div.sk-parallel-item:last-child::after {align-self: flex-start;width: 50%;}#sk-container-id-3 div.sk-parallel-item:only-child::after {width: 0;}#sk-container-id-3 div.sk-dashed-wrapped {border: 1px dashed gray;margin: 0 0.4em 0.5em 0.4em;box-sizing: border-box;padding-bottom: 0.4em;background-color: white;}#sk-container-id-3 div.sk-label label {font-family: monospace;font-weight: bold;display: inline-block;line-height: 1.2em;}#sk-container-id-3 div.sk-label-container {text-align: center;}#sk-container-id-3 div.sk-container {/* jupyter's `normalize.less` sets `[hidden] { display: none; }` but bootstrap.min.css set `[hidden] { display: none !important; }` so we also need the `!important` here to be able to override the default hidden behavior on the sphinx rendered scikit-learn.org. See: https://github.com/scikit-learn/scikit-learn/issues/21755 */display: inline-block !important;position: relative;}#sk-container-id-3 div.sk-text-repr-fallback {display: none;}</style><div id=\"sk-container-id-3\" class=\"sk-top-container\"><div class=\"sk-text-repr-fallback\"><pre>PCA()</pre><b>In a Jupyter environment, please rerun this cell to show the HTML representation or trust the notebook. <br />On GitHub, the HTML representation is unable to render, please try loading this page with nbviewer.org.</b></div><div class=\"sk-container\" hidden><div class=\"sk-item\"><div class=\"sk-estimator sk-toggleable\"><input class=\"sk-toggleable__control sk-hidden--visually\" id=\"sk-estimator-id-3\" type=\"checkbox\" checked><label for=\"sk-estimator-id-3\" class=\"sk-toggleable__label sk-toggleable__label-arrow\">PCA</label><div class=\"sk-toggleable__content\"><pre>PCA()</pre></div></div></div></div></div>"
      ]
     },
     "execution_count": 30,
     "metadata": {},
     "output_type": "execute_result"
    }
   ],
   "execution_count": 30
  },
  {
   "metadata": {
    "ExecuteTime": {
     "end_time": "2024-06-14T16:23:08.430130Z",
     "start_time": "2024-06-14T16:23:08.428158Z"
    }
   },
   "cell_type": "code",
   "source": "pca_data = pca.transform(scaled_data)",
   "id": "fe8336233231005",
   "outputs": [],
   "execution_count": 31
  },
  {
   "metadata": {
    "ExecuteTime": {
     "end_time": "2024-06-14T16:23:08.976714Z",
     "start_time": "2024-06-14T16:23:08.974718Z"
    }
   },
   "cell_type": "code",
   "source": [
    "per_var = np.round(pca.explained_variance_ratio_ * 100, 2)\n",
    "labels = [\"PC\" + str(x) for x in range(1, len(per_var) + 1)]"
   ],
   "id": "66612c65dee36915",
   "outputs": [],
   "execution_count": 32
  },
  {
   "metadata": {
    "ExecuteTime": {
     "end_time": "2024-06-14T16:23:09.529393Z",
     "start_time": "2024-06-14T16:23:09.463093Z"
    }
   },
   "cell_type": "code",
   "source": [
    "plt.bar(x = range(1, len(per_var) + 1), height = per_var, tick_label = labels)\n",
    "plt.ylabel(\"Percentage of Explained Variance\")\n",
    "plt.xlabel(\"Principal Component\")\n",
    "plt.title(\"Scree Plot\")\n",
    "plt.show()"
   ],
   "id": "5ba5323286cf7ffa",
   "outputs": [
    {
     "data": {
      "text/plain": [
       "<Figure size 640x480 with 1 Axes>"
      ],
      "image/png": "[encoded data removed]"
     },
     "metadata": {},
     "output_type": "display_data"
    }
   ],
   "execution_count": 33
  },
  {
   "metadata": {
    "ExecuteTime": {
     "end_time": "2024-06-14T16:23:00.891105Z",
     "start_time": "2024-06-14T16:23:00.674707Z"
    }
   },
   "cell_type": "code",
   "source": "pca_df = pd.DataFrame(pca_data, index = [\"1MO\", \"2MO\", \"3MO\", \"6MO\", \"1Y\", \"2Y\", \"3Y\", \"5Y\", \"7Y\", \"10Y\", \"20Y\", \"30Y\"], columns = labels)",
   "id": "f4231d16aee493",
   "outputs": [
    {
     "ename": "ValueError",
     "evalue": "Shape of passed values is (1306, 12), indices imply (12, 12)",
     "output_type": "error",
     "traceback": [
      "\u001B[0;31m---------------------------------------------------------------------------\u001B[0m",
      "\u001B[0;31mValueError\u001B[0m                                Traceback (most recent call last)",
      "Cell \u001B[0;32mIn[27], line 1\u001B[0m\n\u001B[0;32m----> 1\u001B[0m pca_df \u001B[38;5;241m=\u001B[39m \u001B[43mpd\u001B[49m\u001B[38;5;241;43m.\u001B[39;49m\u001B[43mDataFrame\u001B[49m\u001B[43m(\u001B[49m\u001B[43mpca_data\u001B[49m\u001B[43m,\u001B[49m\u001B[43m \u001B[49m\u001B[43mindex\u001B[49m\u001B[43m \u001B[49m\u001B[38;5;241;43m=\u001B[39;49m\u001B[43m \u001B[49m\u001B[43m[\u001B[49m\u001B[38;5;124;43m\"\u001B[39;49m\u001B[38;5;124;43m1MO\u001B[39;49m\u001B[38;5;124;43m\"\u001B[39;49m\u001B[43m,\u001B[49m\u001B[43m \u001B[49m\u001B[38;5;124;43m\"\u001B[39;49m\u001B[38;5;124;43m2MO\u001B[39;49m\u001B[38;5;124;43m\"\u001B[39;49m\u001B[43m,\u001B[49m\u001B[43m \u001B[49m\u001B[38;5;124;43m\"\u001B[39;49m\u001B[38;5;124;43m3MO\u001B[39;49m\u001B[38;5;124;43m\"\u001B[39;49m\u001B[43m,\u001B[49m\u001B[43m \u001B[49m\u001B[38;5;124;43m\"\u001B[39;49m\u001B[38;5;124;43m6MO\u001B[39;49m\u001B[38;5;124;43m\"\u001B[39;49m\u001B[43m,\u001B[49m\u001B[43m \u001B[49m\u001B[38;5;124;43m\"\u001B[39;49m\u001B[38;5;124;43m1Y\u001B[39;49m\u001B[38;5;124;43m\"\u001B[39;49m\u001B[43m,\u001B[49m\u001B[43m \u001B[49m\u001B[38;5;124;43m\"\u001B[39;49m\u001B[38;5;124;43m2Y\u001B[39;49m\u001B[38;5;124;43m\"\u001B[39;49m\u001B[43m,\u001B[49m\u001B[43m \u001B[49m\u001B[38;5;124;43m\"\u001B[39;49m\u001B[38;5;124;43m3Y\u001B[39;49m\u001B[38;5;124;43m\"\u001B[39;49m\u001B[43m,\u001B[49m\u001B[43m \u001B[49m\u001B[38;5;124;43m\"\u001B[39;49m\u001B[38;5;124;43m5Y\u001B[39;49m\u001B[38;5;124;43m\"\u001B[39;49m\u001B[43m,\u001B[49m\u001B[43m \u001B[49m\u001B[38;5;124;43m\"\u001B[39;49m\u001B[38;5;124;43m7Y\u001B[39;49m\u001B[38;5;124;43m\"\u001B[39;49m\u001B[43m,\u001B[49m\u001B[43m \u001B[49m\u001B[38;5;124;43m\"\u001B[39;49m\u001B[38;5;124;43m10Y\u001B[39;49m\u001B[38;5;124;43m\"\u001B[39;49m\u001B[43m,\u001B[49m\u001B[43m \u001B[49m\u001B[38;5;124;43m\"\u001B[39;49m\u001B[38;5;124;43m20Y\u001B[39;49m\u001B[38;5;124;43m\"\u001B[39;49m\u001B[43m,\u001B[49m\u001B[43m \u001B[49m\u001B[38;5;124;43m\"\u001B[39;49m\u001B[38;5;124;43m30Y\u001B[39;49m\u001B[38;5;124;43m\"\u001B[39;49m\u001B[43m]\u001B[49m\u001B[43m,\u001B[49m\u001B[43m \u001B[49m\u001B[43mcolumns\u001B[49m\u001B[43m \u001B[49m\u001B[38;5;241;43m=\u001B[39;49m\u001B[43m \u001B[49m\u001B[43mlabels\u001B[49m\u001B[43m)\u001B[49m\n",
      "File \u001B[0;32m/Library/Frameworks/Python.framework/Versions/3.11/lib/python3.11/site-packages/pandas/core/frame.py:722\u001B[0m, in \u001B[0;36mDataFrame.__init__\u001B[0;34m(self, data, index, columns, dtype, copy)\u001B[0m\n\u001B[1;32m    712\u001B[0m         mgr \u001B[38;5;241m=\u001B[39m dict_to_mgr(\n\u001B[1;32m    713\u001B[0m             \u001B[38;5;66;03m# error: Item \"ndarray\" of \"Union[ndarray, Series, Index]\" has no\u001B[39;00m\n\u001B[1;32m    714\u001B[0m             \u001B[38;5;66;03m# attribute \"name\"\u001B[39;00m\n\u001B[0;32m   (...)\u001B[0m\n\u001B[1;32m    719\u001B[0m             typ\u001B[38;5;241m=\u001B[39mmanager,\n\u001B[1;32m    720\u001B[0m         )\n\u001B[1;32m    721\u001B[0m     \u001B[38;5;28;01melse\u001B[39;00m:\n\u001B[0;32m--> 722\u001B[0m         mgr \u001B[38;5;241m=\u001B[39m \u001B[43mndarray_to_mgr\u001B[49m\u001B[43m(\u001B[49m\n\u001B[1;32m    723\u001B[0m \u001B[43m            \u001B[49m\u001B[43mdata\u001B[49m\u001B[43m,\u001B[49m\n\u001B[1;32m    724\u001B[0m \u001B[43m            \u001B[49m\u001B[43mindex\u001B[49m\u001B[43m,\u001B[49m\n\u001B[1;32m    725\u001B[0m \u001B[43m            \u001B[49m\u001B[43mcolumns\u001B[49m\u001B[43m,\u001B[49m\n\u001B[1;32m    726\u001B[0m \u001B[43m            \u001B[49m\u001B[43mdtype\u001B[49m\u001B[38;5;241;43m=\u001B[39;49m\u001B[43mdtype\u001B[49m\u001B[43m,\u001B[49m\n\u001B[1;32m    727\u001B[0m \u001B[43m            \u001B[49m\u001B[43mcopy\u001B[49m\u001B[38;5;241;43m=\u001B[39;49m\u001B[43mcopy\u001B[49m\u001B[43m,\u001B[49m\n\u001B[1;32m    728\u001B[0m \u001B[43m            \u001B[49m\u001B[43mtyp\u001B[49m\u001B[38;5;241;43m=\u001B[39;49m\u001B[43mmanager\u001B[49m\u001B[43m,\u001B[49m\n\u001B[1;32m    729\u001B[0m \u001B[43m        \u001B[49m\u001B[43m)\u001B[49m\n\u001B[1;32m    731\u001B[0m \u001B[38;5;66;03m# For data is list-like, or Iterable (will consume into list)\u001B[39;00m\n\u001B[1;32m    732\u001B[0m \u001B[38;5;28;01melif\u001B[39;00m is_list_like(data):\n",
      "File \u001B[0;32m/Library/Frameworks/Python.framework/Versions/3.11/lib/python3.11/site-packages/pandas/core/internals/construction.py:349\u001B[0m, in \u001B[0;36mndarray_to_mgr\u001B[0;34m(values, index, columns, dtype, copy, typ)\u001B[0m\n\u001B[1;32m    344\u001B[0m \u001B[38;5;66;03m# _prep_ndarraylike ensures that values.ndim == 2 at this point\u001B[39;00m\n\u001B[1;32m    345\u001B[0m index, columns \u001B[38;5;241m=\u001B[39m _get_axes(\n\u001B[1;32m    346\u001B[0m     values\u001B[38;5;241m.\u001B[39mshape[\u001B[38;5;241m0\u001B[39m], values\u001B[38;5;241m.\u001B[39mshape[\u001B[38;5;241m1\u001B[39m], index\u001B[38;5;241m=\u001B[39mindex, columns\u001B[38;5;241m=\u001B[39mcolumns\n\u001B[1;32m    347\u001B[0m )\n\u001B[0;32m--> 349\u001B[0m \u001B[43m_check_values_indices_shape_match\u001B[49m\u001B[43m(\u001B[49m\u001B[43mvalues\u001B[49m\u001B[43m,\u001B[49m\u001B[43m \u001B[49m\u001B[43mindex\u001B[49m\u001B[43m,\u001B[49m\u001B[43m \u001B[49m\u001B[43mcolumns\u001B[49m\u001B[43m)\u001B[49m\n\u001B[1;32m    351\u001B[0m \u001B[38;5;28;01mif\u001B[39;00m typ \u001B[38;5;241m==\u001B[39m \u001B[38;5;124m\"\u001B[39m\u001B[38;5;124marray\u001B[39m\u001B[38;5;124m\"\u001B[39m:\n\u001B[1;32m    353\u001B[0m     \u001B[38;5;28;01mif\u001B[39;00m \u001B[38;5;28missubclass\u001B[39m(values\u001B[38;5;241m.\u001B[39mdtype\u001B[38;5;241m.\u001B[39mtype, \u001B[38;5;28mstr\u001B[39m):\n",
      "File \u001B[0;32m/Library/Frameworks/Python.framework/Versions/3.11/lib/python3.11/site-packages/pandas/core/internals/construction.py:420\u001B[0m, in \u001B[0;36m_check_values_indices_shape_match\u001B[0;34m(values, index, columns)\u001B[0m\n\u001B[1;32m    418\u001B[0m passed \u001B[38;5;241m=\u001B[39m values\u001B[38;5;241m.\u001B[39mshape\n\u001B[1;32m    419\u001B[0m implied \u001B[38;5;241m=\u001B[39m (\u001B[38;5;28mlen\u001B[39m(index), \u001B[38;5;28mlen\u001B[39m(columns))\n\u001B[0;32m--> 420\u001B[0m \u001B[38;5;28;01mraise\u001B[39;00m \u001B[38;5;167;01mValueError\u001B[39;00m(\u001B[38;5;124mf\u001B[39m\u001B[38;5;124m\"\u001B[39m\u001B[38;5;124mShape of passed values is \u001B[39m\u001B[38;5;132;01m{\u001B[39;00mpassed\u001B[38;5;132;01m}\u001B[39;00m\u001B[38;5;124m, indices imply \u001B[39m\u001B[38;5;132;01m{\u001B[39;00mimplied\u001B[38;5;132;01m}\u001B[39;00m\u001B[38;5;124m\"\u001B[39m)\n",
      "\u001B[0;31mValueError\u001B[0m: Shape of passed values is (1306, 12), indices imply (12, 12)"
     ]
    }
   ],
   "execution_count": 27
  },
  {
   "metadata": {
    "ExecuteTime": {
     "end_time": "2024-06-14T16:22:32.092660Z",
     "start_time": "2024-06-14T16:22:32.089728Z"
    }
   },
   "cell_type": "code",
   "source": "pca_data",
   "id": "788e3a02eebb0e81",
   "outputs": [
    {
     "data": {
      "text/plain": [
       "array([[-3.24021524e+01,  1.81676812e+01,  1.77194812e+01,\n",
       "         3.28618978e+00,  3.06441205e+00,  5.32113998e-01,\n",
       "         7.23593816e-01,  1.38208927e-01, -4.91448136e-02,\n",
       "         9.66950191e-03, -7.99593576e-03,  1.04916076e-14],\n",
       "       [-3.18335212e+01,  1.58344830e+01,  6.62147087e+00,\n",
       "        -1.35661044e+00, -1.74780453e+00, -1.07015797e+00,\n",
       "        -1.86403001e+00, -1.27551159e+00, -2.76956885e-02,\n",
       "         1.05205356e-01,  2.72271522e-02,  1.40998324e-14],\n",
       "       [-3.12564424e+01,  1.32558325e+01, -2.24714118e-01,\n",
       "        -2.99003643e+00, -1.74126254e+00, -1.01441726e+00,\n",
       "         2.42891510e-01,  1.75017321e+00, -8.68273061e-02,\n",
       "        -9.30291253e-02, -2.43477321e-02,  1.83186799e-15],\n",
       "       [-2.67474461e+01,  7.18949225e+00, -1.42019189e+01,\n",
       "        -1.68059633e+00, -2.55209477e-01,  6.97283820e-01,\n",
       "         2.15084801e+00, -9.11601204e-01,  6.08974403e-01,\n",
       "         1.08732871e-02,  6.27423784e-04, -4.08006962e-15],\n",
       "       [-2.12177868e+01, -3.29932587e+00, -1.64319242e+01,\n",
       "         1.08983481e+00,  7.69568516e-01,  2.46750265e+00,\n",
       "        -1.10820762e+00,  1.74055657e-01, -9.79125293e-01,\n",
       "        -1.35633558e-02, -1.62580390e-02, -8.04911693e-16],\n",
       "       [-1.06104520e+01, -1.78001320e+01, -7.24178458e+00,\n",
       "         3.42725497e+00,  3.18297124e-01, -8.33117540e-01,\n",
       "        -1.05154042e+00,  3.59036150e-01,  1.17048743e+00,\n",
       "        -3.59428041e-01,  1.58582955e-01, -2.47649123e-14],\n",
       "       [-3.29310892e+00, -2.37594873e+01, -1.55442270e+00,\n",
       "         2.07168266e+00, -4.25420909e-01, -1.93391915e+00,\n",
       "         5.56907211e-01, -1.67845632e-02, -3.73774466e-01,\n",
       "         7.15193237e-01, -3.49725871e-01, -2.77555756e-17],\n",
       "       [ 7.40890142e+00, -2.33550030e+01,  7.42345723e+00,\n",
       "        -9.25126866e-01, -4.36883138e-01, -5.15007173e-01,\n",
       "         8.05609486e-01, -2.58799189e-01, -7.00300273e-01,\n",
       "        -2.41596910e-01,  6.14392986e-01, -4.03010958e-14],\n",
       "       [ 1.79334189e+01, -1.57320949e+01,  8.06789292e+00,\n",
       "        -2.08014565e+00,  2.31645587e-01,  4.90587551e-01,\n",
       "         2.76137722e-02, -2.75659038e-01, -7.03725894e-02,\n",
       "        -7.10838244e-01, -5.51009873e-01,  5.24580379e-15],\n",
       "       [ 2.72919930e+01, -8.20246198e+00,  1.00310346e+01,\n",
       "        -1.73712631e+00, -8.72862555e-01,  2.69188243e+00,\n",
       "        -4.01691324e-01,  3.13828226e-01,  6.92232795e-01,\n",
       "         5.86255515e-01,  7.74031177e-02,  1.73472348e-14],\n",
       "       [ 4.69977798e+01,  1.25945638e+01, -7.76402086e+00,\n",
       "        -2.89947627e+00,  3.69307474e+00, -1.50451897e+00,\n",
       "        -5.24125094e-01,  2.21392520e-02,  2.60381367e-02,\n",
       "         1.54557265e-01,  7.81201103e-02,  4.47836213e-14],\n",
       "       [ 5.77288166e+01,  2.51064523e+01, -2.44455150e+00,\n",
       "         3.79415607e+00, -2.59755487e+00, -8.23238098e-03,\n",
       "         4.42130662e-01, -1.90858388e-02, -2.10492330e-01,\n",
       "        -1.63298487e-01, -7.01629438e-03, -1.95121697e-14]])"
      ]
     },
     "execution_count": 20,
     "metadata": {},
     "output_type": "execute_result"
    }
   ],
   "execution_count": 20
  },
  {
   "metadata": {},
   "cell_type": "code",
   "outputs": [],
   "execution_count": null,
   "source": "",
   "id": "919d34d2e02cce3e"
  }
 ],
 "metadata": {
  "kernelspec": {
   "display_name": "Python 3",
   "language": "python",
   "name": "python3"
  },
  "language_info": {
   "codemirror_mode": {
    "name": "ipython",
    "version": 2
   },
   "file_extension": ".py",
   "mimetype": "text/x-python",
   "name": "python",
   "nbconvert_exporter": "python",
   "pygments_lexer": "ipython2",
   "version": "2.7.6"
  }
 },
 "nbformat": 4,
 "nbformat_minor": 5
}
