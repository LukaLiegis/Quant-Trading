{
 "cells": [
  {
   "cell_type": "code",
   "id": "initial_id",
   "metadata": {
    "collapsed": true,
    "ExecuteTime": {
     "end_time": "2024-06-05T07:17:02.102142Z",
     "start_time": "2024-06-05T07:17:01.182128Z"
    }
   },
   "source": [
    "from data import get_data\n",
    "import numpy as np\n",
    "import pandas as pd\n",
    "from arch import arch_model\n",
    "from statsmodels.graphics.tsaplots import plot_acf, plot_pacf\n",
    "import matplotlib.pyplot as plt"
   ],
   "outputs": [],
   "execution_count": 1
  },
  {
   "metadata": {
    "ExecuteTime": {
     "end_time": "2024-06-05T07:20:18.322507Z",
     "start_time": "2024-06-05T07:20:18.319499Z"
    }
   },
   "cell_type": "code",
   "source": [
    "def parkinson(data: pd.DataFrame):\n",
    "        \"\"\"\n",
    "        Calculates the parkinson volatility estimator.\n",
    "        :return:\n",
    "        \"\"\"\n",
    "        const = 4 * np.log(2)\n",
    "\n",
    "        rs = (np.log(data[\"high\"] / data[\"low\"]) ** 2.0).rolling(window=30).sum()\n",
    "\n",
    "        result = (rs / (const * 252)) ** 0.5\n",
    "        \n",
    "        result = result*1000\n",
    "        \n",
    "        return result"
   ],
   "id": "eff06081fb3932fb",
   "outputs": [],
   "execution_count": 16
  },
  {
   "metadata": {
    "ExecuteTime": {
     "end_time": "2024-06-05T07:17:02.397613Z",
     "start_time": "2024-06-05T07:17:02.106784Z"
    }
   },
   "cell_type": "code",
   "source": "aapl = get_data(\"AAPL\", period=\"2y\")",
   "id": "7b6403717c12bad4",
   "outputs": [
    {
     "name": "stdout",
     "output_type": "stream",
     "text": [
      "The size of  AAPL is  (501, 7)\n"
     ]
    }
   ],
   "execution_count": 3
  },
  {
   "metadata": {
    "ExecuteTime": {
     "end_time": "2024-06-05T07:17:02.407029Z",
     "start_time": "2024-06-05T07:17:02.398670Z"
    }
   },
   "cell_type": "code",
   "source": "aapl",
   "id": "a81facebed15c5b7",
   "outputs": [
    {
     "data": {
      "text/plain": [
       "                                 open        high         low       close  \\\n",
       "datetime                                                                    \n",
       "2022-06-07 04:00:00+00:00  142.735132  147.333105  142.487929  147.046356   \n",
       "2022-06-08 04:00:00+00:00  146.917838  148.193400  145.810373  146.304779   \n",
       "2022-06-09 04:00:00+00:00  145.434597  146.294860  140.935496  141.044266   \n",
       "2022-06-10 04:00:00+00:00  138.710671  139.185297  135.526693  135.595917   \n",
       "2022-06-13 04:00:00+00:00  131.383563  133.687499  129.969568  130.404648   \n",
       "...                               ...         ...         ...         ...   \n",
       "2024-05-29 04:00:00+00:00  189.610001  192.250000  189.509995  190.289993   \n",
       "2024-05-30 04:00:00+00:00  190.759995  192.179993  190.630005  191.289993   \n",
       "2024-05-31 04:00:00+00:00  191.440002  192.570007  189.910004  192.250000   \n",
       "2024-06-03 04:00:00+00:00  192.899994  194.990005  192.520004  194.029999   \n",
       "2024-06-04 04:00:00+00:00  194.639999  195.320007  193.029999  194.350006   \n",
       "\n",
       "                              volume  dom   returns  \n",
       "datetime                                             \n",
       "2022-06-07 04:00:00+00:00   67808200    7  0.017586  \n",
       "2022-06-08 04:00:00+00:00   53950200    8 -0.005043  \n",
       "2022-06-09 04:00:00+00:00   69473000    9 -0.035956  \n",
       "2022-06-10 04:00:00+00:00   91437900   10 -0.038629  \n",
       "2022-06-13 04:00:00+00:00  122207100   13 -0.038285  \n",
       "...                              ...  ...       ...  \n",
       "2024-05-29 04:00:00+00:00   53068000   29  0.001579  \n",
       "2024-05-30 04:00:00+00:00   49947900   30  0.005255  \n",
       "2024-05-31 04:00:00+00:00   75158300   31  0.005019  \n",
       "2024-06-03 04:00:00+00:00   50080500    3  0.009259  \n",
       "2024-06-04 04:00:00+00:00   45372900    4  0.001649  \n",
       "\n",
       "[501 rows x 7 columns]"
      ],
      "text/html": [
       "<div>\n",
       "<style scoped>\n",
       "    .dataframe tbody tr th:only-of-type {\n",
       "        vertical-align: middle;\n",
       "    }\n",
       "\n",
       "    .dataframe tbody tr th {\n",
       "        vertical-align: top;\n",
       "    }\n",
       "\n",
       "    .dataframe thead th {\n",
       "        text-align: right;\n",
       "    }\n",
       "</style>\n",
       "<table border=\"1\" class=\"dataframe\">\n",
       "  <thead>\n",
       "    <tr style=\"text-align: right;\">\n",
       "      <th></th>\n",
       "      <th>open</th>\n",
       "      <th>high</th>\n",
       "      <th>low</th>\n",
       "      <th>close</th>\n",
       "      <th>volume</th>\n",
       "      <th>dom</th>\n",
       "      <th>returns</th>\n",
       "    </tr>\n",
       "    <tr>\n",
       "      <th>datetime</th>\n",
       "      <th></th>\n",
       "      <th></th>\n",
       "      <th></th>\n",
       "      <th></th>\n",
       "      <th></th>\n",
       "      <th></th>\n",
       "      <th></th>\n",
       "    </tr>\n",
       "  </thead>\n",
       "  <tbody>\n",
       "    <tr>\n",
       "      <th>2022-06-07 04:00:00+00:00</th>\n",
       "      <td>142.735132</td>\n",
       "      <td>147.333105</td>\n",
       "      <td>142.487929</td>\n",
       "      <td>147.046356</td>\n",
       "      <td>67808200</td>\n",
       "      <td>7</td>\n",
       "      <td>0.017586</td>\n",
       "    </tr>\n",
       "    <tr>\n",
       "      <th>2022-06-08 04:00:00+00:00</th>\n",
       "      <td>146.917838</td>\n",
       "      <td>148.193400</td>\n",
       "      <td>145.810373</td>\n",
       "      <td>146.304779</td>\n",
       "      <td>53950200</td>\n",
       "      <td>8</td>\n",
       "      <td>-0.005043</td>\n",
       "    </tr>\n",
       "    <tr>\n",
       "      <th>2022-06-09 04:00:00+00:00</th>\n",
       "      <td>145.434597</td>\n",
       "      <td>146.294860</td>\n",
       "      <td>140.935496</td>\n",
       "      <td>141.044266</td>\n",
       "      <td>69473000</td>\n",
       "      <td>9</td>\n",
       "      <td>-0.035956</td>\n",
       "    </tr>\n",
       "    <tr>\n",
       "      <th>2022-06-10 04:00:00+00:00</th>\n",
       "      <td>138.710671</td>\n",
       "      <td>139.185297</td>\n",
       "      <td>135.526693</td>\n",
       "      <td>135.595917</td>\n",
       "      <td>91437900</td>\n",
       "      <td>10</td>\n",
       "      <td>-0.038629</td>\n",
       "    </tr>\n",
       "    <tr>\n",
       "      <th>2022-06-13 04:00:00+00:00</th>\n",
       "      <td>131.383563</td>\n",
       "      <td>133.687499</td>\n",
       "      <td>129.969568</td>\n",
       "      <td>130.404648</td>\n",
       "      <td>122207100</td>\n",
       "      <td>13</td>\n",
       "      <td>-0.038285</td>\n",
       "    </tr>\n",
       "    <tr>\n",
       "      <th>...</th>\n",
       "      <td>...</td>\n",
       "      <td>...</td>\n",
       "      <td>...</td>\n",
       "      <td>...</td>\n",
       "      <td>...</td>\n",
       "      <td>...</td>\n",
       "      <td>...</td>\n",
       "    </tr>\n",
       "    <tr>\n",
       "      <th>2024-05-29 04:00:00+00:00</th>\n",
       "      <td>189.610001</td>\n",
       "      <td>192.250000</td>\n",
       "      <td>189.509995</td>\n",
       "      <td>190.289993</td>\n",
       "      <td>53068000</td>\n",
       "      <td>29</td>\n",
       "      <td>0.001579</td>\n",
       "    </tr>\n",
       "    <tr>\n",
       "      <th>2024-05-30 04:00:00+00:00</th>\n",
       "      <td>190.759995</td>\n",
       "      <td>192.179993</td>\n",
       "      <td>190.630005</td>\n",
       "      <td>191.289993</td>\n",
       "      <td>49947900</td>\n",
       "      <td>30</td>\n",
       "      <td>0.005255</td>\n",
       "    </tr>\n",
       "    <tr>\n",
       "      <th>2024-05-31 04:00:00+00:00</th>\n",
       "      <td>191.440002</td>\n",
       "      <td>192.570007</td>\n",
       "      <td>189.910004</td>\n",
       "      <td>192.250000</td>\n",
       "      <td>75158300</td>\n",
       "      <td>31</td>\n",
       "      <td>0.005019</td>\n",
       "    </tr>\n",
       "    <tr>\n",
       "      <th>2024-06-03 04:00:00+00:00</th>\n",
       "      <td>192.899994</td>\n",
       "      <td>194.990005</td>\n",
       "      <td>192.520004</td>\n",
       "      <td>194.029999</td>\n",
       "      <td>50080500</td>\n",
       "      <td>3</td>\n",
       "      <td>0.009259</td>\n",
       "    </tr>\n",
       "    <tr>\n",
       "      <th>2024-06-04 04:00:00+00:00</th>\n",
       "      <td>194.639999</td>\n",
       "      <td>195.320007</td>\n",
       "      <td>193.029999</td>\n",
       "      <td>194.350006</td>\n",
       "      <td>45372900</td>\n",
       "      <td>4</td>\n",
       "      <td>0.001649</td>\n",
       "    </tr>\n",
       "  </tbody>\n",
       "</table>\n",
       "<p>501 rows × 7 columns</p>\n",
       "</div>"
      ]
     },
     "execution_count": 4,
     "metadata": {},
     "output_type": "execute_result"
    }
   ],
   "execution_count": 4
  },
  {
   "metadata": {
    "ExecuteTime": {
     "end_time": "2024-06-05T07:20:25.318431Z",
     "start_time": "2024-06-05T07:20:25.315439Z"
    }
   },
   "cell_type": "code",
   "source": "volatility = parkinson(aapl)",
   "id": "f186384647e06d87",
   "outputs": [],
   "execution_count": 17
  },
  {
   "metadata": {
    "ExecuteTime": {
     "end_time": "2024-06-05T07:20:25.921844Z",
     "start_time": "2024-06-05T07:20:25.919545Z"
    }
   },
   "cell_type": "code",
   "source": "volatility.size",
   "id": "a179fc5c90ee5505",
   "outputs": [
    {
     "data": {
      "text/plain": [
       "501"
      ]
     },
     "execution_count": 18,
     "metadata": {},
     "output_type": "execute_result"
    }
   ],
   "execution_count": 18
  },
  {
   "metadata": {
    "ExecuteTime": {
     "end_time": "2024-06-05T07:20:26.429955Z",
     "start_time": "2024-06-05T07:20:26.426313Z"
    }
   },
   "cell_type": "code",
   "source": [
    "volatility = volatility.dropna()\n",
    "volatility.size"
   ],
   "id": "259079f101a392b7",
   "outputs": [
    {
     "data": {
      "text/plain": [
       "472"
      ]
     },
     "execution_count": 19,
     "metadata": {},
     "output_type": "execute_result"
    }
   ],
   "execution_count": 19
  },
  {
   "metadata": {
    "ExecuteTime": {
     "end_time": "2024-06-05T07:20:26.936949Z",
     "start_time": "2024-06-05T07:20:26.867165Z"
    }
   },
   "cell_type": "code",
   "source": [
    "plt.plot(volatility)\n",
    "plt.title(\"Volatility of Apple\")\n",
    "plt.xlabel(\"Date\")\n",
    "plt.ylabel('Volatility')\n",
    "plt.show()"
   ],
   "id": "dedfe12d6e555371",
   "outputs": [
    {
     "data": {
      "text/plain": [
       "<Figure size 640x480 with 1 Axes>"
      ],
      "image/png": "[encoded data removed]"
     },
     "metadata": {},
     "output_type": "display_data"
    }
   ],
   "execution_count": 20
  },
  {
   "metadata": {
    "ExecuteTime": {
     "end_time": "2024-06-05T07:20:27.581717Z",
     "start_time": "2024-06-05T07:20:27.488880Z"
    }
   },
   "cell_type": "code",
   "source": [
    "plot_pacf(aapl.returns**2)\n",
    "plt.show()"
   ],
   "id": "d85d0a9cb0ef6a89",
   "outputs": [
    {
     "data": {
      "text/plain": [
       "<Figure size 640x480 with 1 Axes>"
      ],
      "image/png": "[encoded data removed]"
     },
     "metadata": {},
     "output_type": "display_data"
    }
   ],
   "execution_count": 21
  },
  {
   "metadata": {
    "ExecuteTime": {
     "end_time": "2024-06-05T07:20:28.991481Z",
     "start_time": "2024-06-05T07:20:28.381042Z"
    }
   },
   "cell_type": "code",
   "source": [
    "plot_pacf(volatility**2)\n",
    "plt.show()"
   ],
   "id": "cd56075466b7a715",
   "outputs": [
    {
     "data": {
      "text/plain": [
       "<Figure size 640x480 with 1 Axes>"
      ],
      "image/png": "[encoded data removed]"
     },
     "metadata": {},
     "output_type": "display_data"
    }
   ],
   "execution_count": 22
  },
  {
   "metadata": {
    "ExecuteTime": {
     "end_time": "2024-06-05T07:20:30.110847Z",
     "start_time": "2024-06-05T07:20:30.107740Z"
    }
   },
   "cell_type": "code",
   "source": "model = arch_model(volatility, p=2, q=2)",
   "id": "b5be7a9a0294be3b",
   "outputs": [],
   "execution_count": 23
  },
  {
   "metadata": {
    "ExecuteTime": {
     "end_time": "2024-06-05T07:20:30.817135Z",
     "start_time": "2024-06-05T07:20:30.802794Z"
    }
   },
   "cell_type": "code",
   "source": "model_fit = model.fit()",
   "id": "ddc843b060ebeaba",
   "outputs": [
    {
     "name": "stdout",
     "output_type": "stream",
     "text": [
      "Iteration:      1,   Func. Count:      8,   Neg. LLF: 43255188634.42212\n",
      "Iteration:      2,   Func. Count:     19,   Neg. LLF: 404142584.1046285\n",
      "Iteration:      3,   Func. Count:     27,   Neg. LLF: 4192.910479591698\n",
      "Iteration:      4,   Func. Count:     35,   Neg. LLF: 14178.468273128809\n",
      "Iteration:      5,   Func. Count:     43,   Neg. LLF: 456.21339814914336\n",
      "Iteration:      6,   Func. Count:     50,   Neg. LLF: 453.6519051549394\n",
      "Iteration:      7,   Func. Count:     59,   Neg. LLF: 438.5891933040056\n",
      "Iteration:      8,   Func. Count:     66,   Neg. LLF: 442.67348497542486\n",
      "Iteration:      9,   Func. Count:     74,   Neg. LLF: 438.2613708424745\n",
      "Iteration:     10,   Func. Count:     81,   Neg. LLF: 438.18475714306265\n",
      "Iteration:     11,   Func. Count:     88,   Neg. LLF: 438.1512780222706\n",
      "Iteration:     12,   Func. Count:     95,   Neg. LLF: 438.13498072820255\n",
      "Iteration:     13,   Func. Count:    102,   Neg. LLF: 438.13469269480584\n",
      "Iteration:     14,   Func. Count:    109,   Neg. LLF: 438.13467838406393\n",
      "Iteration:     15,   Func. Count:    115,   Neg. LLF: 438.1346783356886\n",
      "Optimization terminated successfully    (Exit mode 0)\n",
      "            Current function value: 438.13467838406393\n",
      "            Iterations: 15\n",
      "            Function evaluations: 115\n",
      "            Gradient evaluations: 15\n"
     ]
    }
   ],
   "execution_count": 24
  },
  {
   "metadata": {
    "ExecuteTime": {
     "end_time": "2024-06-05T07:20:49.741629Z",
     "start_time": "2024-06-05T07:20:49.727953Z"
    }
   },
   "cell_type": "code",
   "source": "model_fit.summary()",
   "id": "f5d5b252a4784564",
   "outputs": [
    {
     "data": {
      "text/plain": [
       "<class 'statsmodels.iolib.summary.Summary'>\n",
       "\"\"\"\n",
       "                     Constant Mean - GARCH Model Results                      \n",
       "==============================================================================\n",
       "Dep. Variable:                   None   R-squared:                       0.000\n",
       "Mean Model:             Constant Mean   Adj. R-squared:                  0.000\n",
       "Vol Model:                      GARCH   Log-Likelihood:               -438.135\n",
       "Distribution:                  Normal   AIC:                           888.269\n",
       "Method:            Maximum Likelihood   BIC:                           913.211\n",
       "                                        No. Observations:                  472\n",
       "Date:                Wed, Jun 05 2024   Df Residuals:                      471\n",
       "Time:                        10:20:30   Df Model:                            1\n",
       "                               Mean Model                               \n",
       "========================================================================\n",
       "                 coef    std err          t      P>|t|  95.0% Conf. Int.\n",
       "------------------------------------------------------------------------\n",
       "mu             3.8193  3.363e-02    113.584      0.000 [  3.753,  3.885]\n",
       "                               Volatility Model                              \n",
       "=============================================================================\n",
       "                 coef    std err          t      P>|t|       95.0% Conf. Int.\n",
       "-----------------------------------------------------------------------------\n",
       "omega      3.5020e-03  1.258e-02      0.278      0.781 [-2.115e-02,2.815e-02]\n",
       "alpha[1]       0.9778      0.190      5.153  2.566e-07      [  0.606,  1.350]\n",
       "alpha[2]   2.1508e-09      2.675  8.039e-10      1.000      [ -5.244,  5.244]\n",
       "beta[1]        0.0000      2.270      0.000      1.000      [ -4.449,  4.449]\n",
       "beta[2]        0.0222      0.198      0.112      0.911      [ -0.367,  0.411]\n",
       "=============================================================================\n",
       "\n",
       "Covariance estimator: robust\n",
       "\"\"\""
      ],
      "text/html": [
       "<table class=\"simpletable\">\n",
       "<caption>Constant Mean - GARCH Model Results</caption>\n",
       "<tr>\n",
       "  <th>Dep. Variable:</th>        <td>None</td>        <th>  R-squared:         </th>  <td>   0.000</td> \n",
       "</tr>\n",
       "<tr>\n",
       "  <th>Mean Model:</th>       <td>Constant Mean</td>   <th>  Adj. R-squared:    </th>  <td>   0.000</td> \n",
       "</tr>\n",
       "<tr>\n",
       "  <th>Vol Model:</th>            <td>GARCH</td>       <th>  Log-Likelihood:    </th> <td>  -438.135</td>\n",
       "</tr>\n",
       "<tr>\n",
       "  <th>Distribution:</th>        <td>Normal</td>       <th>  AIC:               </th> <td>   888.269</td>\n",
       "</tr>\n",
       "<tr>\n",
       "  <th>Method:</th>        <td>Maximum Likelihood</td> <th>  BIC:               </th> <td>   913.211</td>\n",
       "</tr>\n",
       "<tr>\n",
       "  <th></th>                        <td></td>          <th>  No. Observations:  </th>     <td>472</td>   \n",
       "</tr>\n",
       "<tr>\n",
       "  <th>Date:</th>           <td>Wed, Jun 05 2024</td>  <th>  Df Residuals:      </th>     <td>471</td>   \n",
       "</tr>\n",
       "<tr>\n",
       "  <th>Time:</th>               <td>10:20:30</td>      <th>  Df Model:          </th>      <td>1</td>    \n",
       "</tr>\n",
       "</table>\n",
       "<table class=\"simpletable\">\n",
       "<caption>Mean Model</caption>\n",
       "<tr>\n",
       "   <td></td>     <th>coef</th>     <th>std err</th>      <th>t</th>     <th>P>|t|</th> <th>95.0% Conf. Int.</th> \n",
       "</tr>\n",
       "<tr>\n",
       "  <th>mu</th> <td>    3.8193</td> <td>3.363e-02</td> <td>  113.584</td> <td>0.000</td> <td>[  3.753,  3.885]</td>\n",
       "</tr>\n",
       "</table>\n",
       "<table class=\"simpletable\">\n",
       "<caption>Volatility Model</caption>\n",
       "<tr>\n",
       "      <td></td>        <th>coef</th>     <th>std err</th>      <th>t</th>       <th>P>|t|</th>      <th>95.0% Conf. Int.</th>   \n",
       "</tr>\n",
       "<tr>\n",
       "  <th>omega</th>    <td>3.5020e-03</td> <td>1.258e-02</td> <td>    0.278</td> <td>    0.781</td> <td>[-2.115e-02,2.815e-02]</td>\n",
       "</tr>\n",
       "<tr>\n",
       "  <th>alpha[1]</th> <td>    0.9778</td> <td>    0.190</td> <td>    5.153</td> <td>2.566e-07</td>    <td>[  0.606,  1.350]</td>  \n",
       "</tr>\n",
       "<tr>\n",
       "  <th>alpha[2]</th> <td>2.1508e-09</td> <td>    2.675</td> <td>8.039e-10</td> <td>    1.000</td>    <td>[ -5.244,  5.244]</td>  \n",
       "</tr>\n",
       "<tr>\n",
       "  <th>beta[1]</th>    <td>0.0000</td>   <td>    2.270</td>   <td>0.000</td>   <td>    1.000</td>    <td>[ -4.449,  4.449]</td>  \n",
       "</tr>\n",
       "<tr>\n",
       "  <th>beta[2]</th>  <td>    0.0222</td> <td>    0.198</td> <td>    0.112</td> <td>    0.911</td>    <td>[ -0.367,  0.411]</td>  \n",
       "</tr>\n",
       "</table><br/><br/>Covariance estimator: robust"
      ],
      "text/latex": "\\begin{center}\n\\begin{tabular}{lclc}\n\\toprule\n\\textbf{Dep. Variable:} &        None        & \\textbf{  R-squared:         } &     0.000   \\\\\n\\textbf{Mean Model:}    &   Constant Mean    & \\textbf{  Adj. R-squared:    } &     0.000   \\\\\n\\textbf{Vol Model:}     &       GARCH        & \\textbf{  Log-Likelihood:    } &   -438.135  \\\\\n\\textbf{Distribution:}  &       Normal       & \\textbf{  AIC:               } &    888.269  \\\\\n\\textbf{Method:}        & Maximum Likelihood & \\textbf{  BIC:               } &    913.211  \\\\\n\\textbf{}               &                    & \\textbf{  No. Observations:  } &    472      \\\\\n\\textbf{Date:}          &  Wed, Jun 05 2024  & \\textbf{  Df Residuals:      } &    471      \\\\\n\\textbf{Time:}          &      10:20:30      & \\textbf{  Df Model:          } &     1       \\\\\n\\bottomrule\n\\end{tabular}\n\\begin{tabular}{lccccc}\n            & \\textbf{coef} & \\textbf{std err} & \\textbf{t} & \\textbf{P$> |$t$|$} & \\textbf{95.0\\% Conf. Int.}  \\\\\n\\midrule\n\\textbf{mu} &       3.8193  &    3.363e-02     &   113.584  &        0.000         &     [  3.753,  3.885]       \\\\\n                  & \\textbf{coef} & \\textbf{std err} & \\textbf{t} & \\textbf{P$> |$t$|$} & \\textbf{95.0\\% Conf. Int.}  \\\\\n\\midrule\n\\textbf{omega}    &   3.5020e-03  &    1.258e-02     &     0.278  &          0.781       &   [-2.115e-02,2.815e-02]    \\\\\n\\textbf{alpha[1]} &       0.9778  &        0.190     &     5.153  &      2.566e-07       &     [  0.606,  1.350]       \\\\\n\\textbf{alpha[2]} &   2.1508e-09  &        2.675     & 8.039e-10  &          1.000       &     [ -5.244,  5.244]       \\\\\n\\textbf{beta[1]}  &     0.0000    &        2.270     &   0.000    &          1.000       &     [ -4.449,  4.449]       \\\\\n\\textbf{beta[2]}  &       0.0222  &        0.198     &     0.112  &          0.911       &     [ -0.367,  0.411]       \\\\\n\\bottomrule\n\\end{tabular}\n%\\caption{Constant Mean - GARCH Model Results}\n\\end{center}\n\nCovariance estimator: robust"
     },
     "execution_count": 25,
     "metadata": {},
     "output_type": "execute_result"
    }
   ],
   "execution_count": 25
  },
  {
   "metadata": {
    "ExecuteTime": {
     "end_time": "2024-06-05T07:21:32.044835Z",
     "start_time": "2024-06-05T07:21:32.041992Z"
    }
   },
   "cell_type": "code",
   "source": "model_new = arch_model(volatility, p=1, q=0)",
   "id": "3ac911c467378b3c",
   "outputs": [],
   "execution_count": 26
  },
  {
   "metadata": {
    "ExecuteTime": {
     "end_time": "2024-06-05T07:21:51.887671Z",
     "start_time": "2024-06-05T07:21:51.871765Z"
    }
   },
   "cell_type": "code",
   "source": "model_fit = model_new.fit()",
   "id": "cdd5f0bc90c91541",
   "outputs": [
    {
     "name": "stdout",
     "output_type": "stream",
     "text": [
      "Iteration:      1,   Func. Count:      5,   Neg. LLF: 9432.347435136911\n",
      "Iteration:      2,   Func. Count:     13,   Neg. LLF: 35635.29487205531\n",
      "Iteration:      3,   Func. Count:     18,   Neg. LLF: 888.2545085691847\n",
      "Iteration:      4,   Func. Count:     23,   Neg. LLF: 3701.991884337421\n",
      "Iteration:      5,   Func. Count:     28,   Neg. LLF: 470.56909529185435\n",
      "Iteration:      6,   Func. Count:     32,   Neg. LLF: 1811.409249495865\n",
      "Iteration:      7,   Func. Count:     40,   Neg. LLF: 913.9379585655659\n",
      "Iteration:      8,   Func. Count:     46,   Neg. LLF: 479.62970914666596\n",
      "Iteration:      9,   Func. Count:     52,   Neg. LLF: 459.07581715897925\n",
      "Iteration:     10,   Func. Count:     56,   Neg. LLF: 451.7167481238518\n",
      "Iteration:     11,   Func. Count:     60,   Neg. LLF: 1086.2133213894772\n",
      "Iteration:     12,   Func. Count:     65,   Neg. LLF: 7509.514379995888\n",
      "Iteration:     13,   Func. Count:     70,   Neg. LLF: 470.10700842138067\n",
      "Iteration:     14,   Func. Count:     75,   Neg. LLF: 436.69841670262866\n",
      "Iteration:     15,   Func. Count:     79,   Neg. LLF: 480.3978086860233\n",
      "Iteration:     16,   Func. Count:     84,   Neg. LLF: 611.3067519073945\n",
      "Iteration:     17,   Func. Count:     89,   Neg. LLF: 452.6438232610843\n",
      "Iteration:     18,   Func. Count:     94,   Neg. LLF: 439.1067953761903\n",
      "Iteration:     19,   Func. Count:     99,   Neg. LLF: 435.0835389810108\n",
      "Iteration:     20,   Func. Count:    103,   Neg. LLF: 434.9057441993908\n",
      "Iteration:     21,   Func. Count:    107,   Neg. LLF: 434.88862639299685\n",
      "Iteration:     22,   Func. Count:    111,   Neg. LLF: 434.88282291220025\n",
      "Iteration:     23,   Func. Count:    115,   Neg. LLF: 434.8827960298906\n",
      "Iteration:     24,   Func. Count:    118,   Neg. LLF: 434.88279603184105\n",
      "Optimization terminated successfully    (Exit mode 0)\n",
      "            Current function value: 434.8827960298906\n",
      "            Iterations: 24\n",
      "            Function evaluations: 118\n",
      "            Gradient evaluations: 24\n"
     ]
    }
   ],
   "execution_count": 27
  },
  {
   "metadata": {
    "ExecuteTime": {
     "end_time": "2024-06-05T07:21:58.743298Z",
     "start_time": "2024-06-05T07:21:58.735699Z"
    }
   },
   "cell_type": "code",
   "source": "model_fit.summary()",
   "id": "2d1243d83acc4d96",
   "outputs": [
    {
     "data": {
      "text/plain": [
       "<class 'statsmodels.iolib.summary.Summary'>\n",
       "\"\"\"\n",
       "                      Constant Mean - ARCH Model Results                      \n",
       "==============================================================================\n",
       "Dep. Variable:                   None   R-squared:                       0.000\n",
       "Mean Model:             Constant Mean   Adj. R-squared:                  0.000\n",
       "Vol Model:                       ARCH   Log-Likelihood:               -434.883\n",
       "Distribution:                  Normal   AIC:                           875.766\n",
       "Method:            Maximum Likelihood   BIC:                           888.237\n",
       "                                        No. Observations:                  472\n",
       "Date:                Wed, Jun 05 2024   Df Residuals:                      471\n",
       "Time:                        10:21:51   Df Model:                            1\n",
       "                               Mean Model                               \n",
       "========================================================================\n",
       "                 coef    std err          t      P>|t|  95.0% Conf. Int.\n",
       "------------------------------------------------------------------------\n",
       "mu             3.5490  2.240e-02    158.424      0.000 [  3.505,  3.593]\n",
       "                               Volatility Model                              \n",
       "=============================================================================\n",
       "                 coef    std err          t      P>|t|       95.0% Conf. Int.\n",
       "-----------------------------------------------------------------------------\n",
       "omega      5.0502e-03  2.894e-03      1.745  8.102e-02 [-6.227e-04,1.072e-02]\n",
       "alpha[1]       1.0000  3.396e-02     29.444 1.501e-190      [  0.933,  1.067]\n",
       "=============================================================================\n",
       "\n",
       "Covariance estimator: robust\n",
       "\"\"\""
      ],
      "text/html": [
       "<table class=\"simpletable\">\n",
       "<caption>Constant Mean - ARCH Model Results</caption>\n",
       "<tr>\n",
       "  <th>Dep. Variable:</th>        <td>None</td>        <th>  R-squared:         </th>  <td>   0.000</td> \n",
       "</tr>\n",
       "<tr>\n",
       "  <th>Mean Model:</th>       <td>Constant Mean</td>   <th>  Adj. R-squared:    </th>  <td>   0.000</td> \n",
       "</tr>\n",
       "<tr>\n",
       "  <th>Vol Model:</th>            <td>ARCH</td>        <th>  Log-Likelihood:    </th> <td>  -434.883</td>\n",
       "</tr>\n",
       "<tr>\n",
       "  <th>Distribution:</th>        <td>Normal</td>       <th>  AIC:               </th> <td>   875.766</td>\n",
       "</tr>\n",
       "<tr>\n",
       "  <th>Method:</th>        <td>Maximum Likelihood</td> <th>  BIC:               </th> <td>   888.237</td>\n",
       "</tr>\n",
       "<tr>\n",
       "  <th></th>                        <td></td>          <th>  No. Observations:  </th>     <td>472</td>   \n",
       "</tr>\n",
       "<tr>\n",
       "  <th>Date:</th>           <td>Wed, Jun 05 2024</td>  <th>  Df Residuals:      </th>     <td>471</td>   \n",
       "</tr>\n",
       "<tr>\n",
       "  <th>Time:</th>               <td>10:21:51</td>      <th>  Df Model:          </th>      <td>1</td>    \n",
       "</tr>\n",
       "</table>\n",
       "<table class=\"simpletable\">\n",
       "<caption>Mean Model</caption>\n",
       "<tr>\n",
       "   <td></td>     <th>coef</th>     <th>std err</th>      <th>t</th>     <th>P>|t|</th> <th>95.0% Conf. Int.</th> \n",
       "</tr>\n",
       "<tr>\n",
       "  <th>mu</th> <td>    3.5490</td> <td>2.240e-02</td> <td>  158.424</td> <td>0.000</td> <td>[  3.505,  3.593]</td>\n",
       "</tr>\n",
       "</table>\n",
       "<table class=\"simpletable\">\n",
       "<caption>Volatility Model</caption>\n",
       "<tr>\n",
       "      <td></td>        <th>coef</th>     <th>std err</th>      <th>t</th>        <th>P>|t|</th>      <th>95.0% Conf. Int.</th>   \n",
       "</tr>\n",
       "<tr>\n",
       "  <th>omega</th>    <td>5.0502e-03</td> <td>2.894e-03</td> <td>    1.745</td>  <td>8.102e-02</td> <td>[-6.227e-04,1.072e-02]</td>\n",
       "</tr>\n",
       "<tr>\n",
       "  <th>alpha[1]</th> <td>    1.0000</td> <td>3.396e-02</td> <td>   29.444</td> <td>1.501e-190</td>    <td>[  0.933,  1.067]</td>  \n",
       "</tr>\n",
       "</table><br/><br/>Covariance estimator: robust"
      ],
      "text/latex": "\\begin{center}\n\\begin{tabular}{lclc}\n\\toprule\n\\textbf{Dep. Variable:} &        None        & \\textbf{  R-squared:         } &     0.000   \\\\\n\\textbf{Mean Model:}    &   Constant Mean    & \\textbf{  Adj. R-squared:    } &     0.000   \\\\\n\\textbf{Vol Model:}     &        ARCH        & \\textbf{  Log-Likelihood:    } &   -434.883  \\\\\n\\textbf{Distribution:}  &       Normal       & \\textbf{  AIC:               } &    875.766  \\\\\n\\textbf{Method:}        & Maximum Likelihood & \\textbf{  BIC:               } &    888.237  \\\\\n\\textbf{}               &                    & \\textbf{  No. Observations:  } &    472      \\\\\n\\textbf{Date:}          &  Wed, Jun 05 2024  & \\textbf{  Df Residuals:      } &    471      \\\\\n\\textbf{Time:}          &      10:21:51      & \\textbf{  Df Model:          } &     1       \\\\\n\\bottomrule\n\\end{tabular}\n\\begin{tabular}{lccccc}\n            & \\textbf{coef} & \\textbf{std err} & \\textbf{t} & \\textbf{P$> |$t$|$} & \\textbf{95.0\\% Conf. Int.}  \\\\\n\\midrule\n\\textbf{mu} &       3.5490  &    2.240e-02     &   158.424  &        0.000         &     [  3.505,  3.593]       \\\\\n                  & \\textbf{coef} & \\textbf{std err} & \\textbf{t} & \\textbf{P$> |$t$|$} & \\textbf{95.0\\% Conf. Int.}  \\\\\n\\midrule\n\\textbf{omega}    &   5.0502e-03  &    2.894e-03     &     1.745  &      8.102e-02       &   [-6.227e-04,1.072e-02]    \\\\\n\\textbf{alpha[1]} &       1.0000  &    3.396e-02     &    29.444  &      1.501e-190      &     [  0.933,  1.067]       \\\\\n\\bottomrule\n\\end{tabular}\n%\\caption{Constant Mean - ARCH Model Results}\n\\end{center}\n\nCovariance estimator: robust"
     },
     "execution_count": 28,
     "metadata": {},
     "output_type": "execute_result"
    }
   ],
   "execution_count": 28
  },
  {
   "metadata": {},
   "cell_type": "code",
   "outputs": [],
   "execution_count": null,
   "source": "",
   "id": "434d3fa9bfef5705"
  }
 ],
 "metadata": {
  "kernelspec": {
   "display_name": "Python 3",
   "language": "python",
   "name": "python3"
  },
  "language_info": {
   "codemirror_mode": {
    "name": "ipython",
    "version": 2
   },
   "file_extension": ".py",
   "mimetype": "text/x-python",
   "name": "python",
   "nbconvert_exporter": "python",
   "pygments_lexer": "ipython2",
   "version": "2.7.6"
  }
 },
 "nbformat": 4,
 "nbformat_minor": 5
}
