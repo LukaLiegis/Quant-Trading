{
 "cells": [
  {
   "cell_type": "code",
   "id": "initial_id",
   "metadata": {
    "collapsed": true,
    "ExecuteTime": {
     "end_time": "2024-06-05T07:05:43.840168Z",
     "start_time": "2024-06-05T07:05:37.810960Z"
    }
   },
   "source": [
    "from data import get_data\n",
    "import numpy as np\n",
    "import pandas as pd\n",
    "from arch import arch_model\n",
    "from statsmodels.graphics.tsaplots import plot_acf, plot_pacf\n"
   ],
   "outputs": [],
   "execution_count": 1
  },
  {
   "metadata": {
    "ExecuteTime": {
     "end_time": "2024-06-05T07:11:23.206963Z",
     "start_time": "2024-06-05T07:11:23.203723Z"
    }
   },
   "cell_type": "code",
   "source": [
    "def parkinson(data: pd.DataFrame):\n",
    "        \"\"\"\n",
    "        Calculates the parkinson volatility estimator.\n",
    "        :return:\n",
    "        \"\"\"\n",
    "        const = 4 * np.log(2)\n",
    "\n",
    "        rs = (np.log(data[\"high\"] / data[\"low\"]) ** 2.0).rolling(window=30).sum()\n",
    "\n",
    "        result = (rs / (const * 252)) ** 0.5\n",
    "        \n",
    "        return result"
   ],
   "id": "eff06081fb3932fb",
   "outputs": [],
   "execution_count": 9
  },
  {
   "metadata": {
    "ExecuteTime": {
     "end_time": "2024-06-05T07:10:26.265305Z",
     "start_time": "2024-06-05T07:10:25.892335Z"
    }
   },
   "cell_type": "code",
   "source": "aapl = get_data(\"AAPL\", period=\"2y\")",
   "id": "7b6403717c12bad4",
   "outputs": [
    {
     "name": "stdout",
     "output_type": "stream",
     "text": [
      "The size of  AAPL is  (501, 7)\n"
     ]
    }
   ],
   "execution_count": 6
  },
  {
   "metadata": {
    "ExecuteTime": {
     "end_time": "2024-06-05T07:10:32.027885Z",
     "start_time": "2024-06-05T07:10:32.019185Z"
    }
   },
   "cell_type": "code",
   "source": "aapl",
   "id": "a81facebed15c5b7",
   "outputs": [
    {
     "data": {
      "text/plain": [
       "                                 open        high         low       close  \\\n",
       "datetime                                                                    \n",
       "2022-06-07 04:00:00+00:00  142.735147  147.333121  142.487943  147.046371   \n",
       "2022-06-08 04:00:00+00:00  146.917838  148.193400  145.810373  146.304779   \n",
       "2022-06-09 04:00:00+00:00  145.434613  146.294875  140.935511  141.044281   \n",
       "2022-06-10 04:00:00+00:00  138.710656  139.185282  135.526677  135.595901   \n",
       "2022-06-13 04:00:00+00:00  131.383563  133.687499  129.969568  130.404648   \n",
       "...                               ...         ...         ...         ...   \n",
       "2024-05-29 04:00:00+00:00  189.610001  192.250000  189.509995  190.289993   \n",
       "2024-05-30 04:00:00+00:00  190.759995  192.179993  190.630005  191.289993   \n",
       "2024-05-31 04:00:00+00:00  191.440002  192.570007  189.910004  192.250000   \n",
       "2024-06-03 04:00:00+00:00  192.899994  194.990005  192.520004  194.029999   \n",
       "2024-06-04 04:00:00+00:00  194.639999  195.320007  193.029999  194.350006   \n",
       "\n",
       "                              volume  dom   returns  \n",
       "datetime                                             \n",
       "2022-06-07 04:00:00+00:00   67808200    7  0.017586  \n",
       "2022-06-08 04:00:00+00:00   53950200    8 -0.005043  \n",
       "2022-06-09 04:00:00+00:00   69473000    9 -0.035956  \n",
       "2022-06-10 04:00:00+00:00   91437900   10 -0.038629  \n",
       "2022-06-13 04:00:00+00:00  122207100   13 -0.038285  \n",
       "...                              ...  ...       ...  \n",
       "2024-05-29 04:00:00+00:00   53068000   29  0.001579  \n",
       "2024-05-30 04:00:00+00:00   49947900   30  0.005255  \n",
       "2024-05-31 04:00:00+00:00   75158300   31  0.005019  \n",
       "2024-06-03 04:00:00+00:00   50080500    3  0.009259  \n",
       "2024-06-04 04:00:00+00:00   45372900    4  0.001649  \n",
       "\n",
       "[501 rows x 7 columns]"
      ],
      "text/html": [
       "<div>\n",
       "<style scoped>\n",
       "    .dataframe tbody tr th:only-of-type {\n",
       "        vertical-align: middle;\n",
       "    }\n",
       "\n",
       "    .dataframe tbody tr th {\n",
       "        vertical-align: top;\n",
       "    }\n",
       "\n",
       "    .dataframe thead th {\n",
       "        text-align: right;\n",
       "    }\n",
       "</style>\n",
       "<table border=\"1\" class=\"dataframe\">\n",
       "  <thead>\n",
       "    <tr style=\"text-align: right;\">\n",
       "      <th></th>\n",
       "      <th>open</th>\n",
       "      <th>high</th>\n",
       "      <th>low</th>\n",
       "      <th>close</th>\n",
       "      <th>volume</th>\n",
       "      <th>dom</th>\n",
       "      <th>returns</th>\n",
       "    </tr>\n",
       "    <tr>\n",
       "      <th>datetime</th>\n",
       "      <th></th>\n",
       "      <th></th>\n",
       "      <th></th>\n",
       "      <th></th>\n",
       "      <th></th>\n",
       "      <th></th>\n",
       "      <th></th>\n",
       "    </tr>\n",
       "  </thead>\n",
       "  <tbody>\n",
       "    <tr>\n",
       "      <th>2022-06-07 04:00:00+00:00</th>\n",
       "      <td>142.735147</td>\n",
       "      <td>147.333121</td>\n",
       "      <td>142.487943</td>\n",
       "      <td>147.046371</td>\n",
       "      <td>67808200</td>\n",
       "      <td>7</td>\n",
       "      <td>0.017586</td>\n",
       "    </tr>\n",
       "    <tr>\n",
       "      <th>2022-06-08 04:00:00+00:00</th>\n",
       "      <td>146.917838</td>\n",
       "      <td>148.193400</td>\n",
       "      <td>145.810373</td>\n",
       "      <td>146.304779</td>\n",
       "      <td>53950200</td>\n",
       "      <td>8</td>\n",
       "      <td>-0.005043</td>\n",
       "    </tr>\n",
       "    <tr>\n",
       "      <th>2022-06-09 04:00:00+00:00</th>\n",
       "      <td>145.434613</td>\n",
       "      <td>146.294875</td>\n",
       "      <td>140.935511</td>\n",
       "      <td>141.044281</td>\n",
       "      <td>69473000</td>\n",
       "      <td>9</td>\n",
       "      <td>-0.035956</td>\n",
       "    </tr>\n",
       "    <tr>\n",
       "      <th>2022-06-10 04:00:00+00:00</th>\n",
       "      <td>138.710656</td>\n",
       "      <td>139.185282</td>\n",
       "      <td>135.526677</td>\n",
       "      <td>135.595901</td>\n",
       "      <td>91437900</td>\n",
       "      <td>10</td>\n",
       "      <td>-0.038629</td>\n",
       "    </tr>\n",
       "    <tr>\n",
       "      <th>2022-06-13 04:00:00+00:00</th>\n",
       "      <td>131.383563</td>\n",
       "      <td>133.687499</td>\n",
       "      <td>129.969568</td>\n",
       "      <td>130.404648</td>\n",
       "      <td>122207100</td>\n",
       "      <td>13</td>\n",
       "      <td>-0.038285</td>\n",
       "    </tr>\n",
       "    <tr>\n",
       "      <th>...</th>\n",
       "      <td>...</td>\n",
       "      <td>...</td>\n",
       "      <td>...</td>\n",
       "      <td>...</td>\n",
       "      <td>...</td>\n",
       "      <td>...</td>\n",
       "      <td>...</td>\n",
       "    </tr>\n",
       "    <tr>\n",
       "      <th>2024-05-29 04:00:00+00:00</th>\n",
       "      <td>189.610001</td>\n",
       "      <td>192.250000</td>\n",
       "      <td>189.509995</td>\n",
       "      <td>190.289993</td>\n",
       "      <td>53068000</td>\n",
       "      <td>29</td>\n",
       "      <td>0.001579</td>\n",
       "    </tr>\n",
       "    <tr>\n",
       "      <th>2024-05-30 04:00:00+00:00</th>\n",
       "      <td>190.759995</td>\n",
       "      <td>192.179993</td>\n",
       "      <td>190.630005</td>\n",
       "      <td>191.289993</td>\n",
       "      <td>49947900</td>\n",
       "      <td>30</td>\n",
       "      <td>0.005255</td>\n",
       "    </tr>\n",
       "    <tr>\n",
       "      <th>2024-05-31 04:00:00+00:00</th>\n",
       "      <td>191.440002</td>\n",
       "      <td>192.570007</td>\n",
       "      <td>189.910004</td>\n",
       "      <td>192.250000</td>\n",
       "      <td>75158300</td>\n",
       "      <td>31</td>\n",
       "      <td>0.005019</td>\n",
       "    </tr>\n",
       "    <tr>\n",
       "      <th>2024-06-03 04:00:00+00:00</th>\n",
       "      <td>192.899994</td>\n",
       "      <td>194.990005</td>\n",
       "      <td>192.520004</td>\n",
       "      <td>194.029999</td>\n",
       "      <td>50080500</td>\n",
       "      <td>3</td>\n",
       "      <td>0.009259</td>\n",
       "    </tr>\n",
       "    <tr>\n",
       "      <th>2024-06-04 04:00:00+00:00</th>\n",
       "      <td>194.639999</td>\n",
       "      <td>195.320007</td>\n",
       "      <td>193.029999</td>\n",
       "      <td>194.350006</td>\n",
       "      <td>45372900</td>\n",
       "      <td>4</td>\n",
       "      <td>0.001649</td>\n",
       "    </tr>\n",
       "  </tbody>\n",
       "</table>\n",
       "<p>501 rows × 7 columns</p>\n",
       "</div>"
      ]
     },
     "execution_count": 7,
     "metadata": {},
     "output_type": "execute_result"
    }
   ],
   "execution_count": 7
  },
  {
   "metadata": {
    "ExecuteTime": {
     "end_time": "2024-06-05T07:11:25.395575Z",
     "start_time": "2024-06-05T07:11:25.392557Z"
    }
   },
   "cell_type": "code",
   "source": "volatility = parkinson(aapl)",
   "id": "f186384647e06d87",
   "outputs": [],
   "execution_count": 10
  },
  {
   "metadata": {
    "ExecuteTime": {
     "end_time": "2024-06-05T07:11:36.619466Z",
     "start_time": "2024-06-05T07:11:36.616292Z"
    }
   },
   "cell_type": "code",
   "source": "volatility.tail(10)",
   "id": "f050f51464d49c29",
   "outputs": [
    {
     "data": {
      "text/plain": [
       "datetime\n",
       "2024-05-21 04:00:00+00:00    0.003878\n",
       "2024-05-22 04:00:00+00:00    0.003886\n",
       "2024-05-23 04:00:00+00:00    0.003644\n",
       "2024-05-24 04:00:00+00:00    0.003570\n",
       "2024-05-28 04:00:00+00:00    0.003541\n",
       "2024-05-29 04:00:00+00:00    0.003370\n",
       "2024-05-30 04:00:00+00:00    0.003332\n",
       "2024-05-31 04:00:00+00:00    0.003340\n",
       "2024-06-03 04:00:00+00:00    0.003333\n",
       "2024-06-04 04:00:00+00:00    0.003314\n",
       "dtype: float64"
      ]
     },
     "execution_count": 12,
     "metadata": {},
     "output_type": "execute_result"
    }
   ],
   "execution_count": 12
  },
  {
   "metadata": {
    "ExecuteTime": {
     "end_time": "2024-06-05T07:11:49.650706Z",
     "start_time": "2024-06-05T07:11:49.647825Z"
    }
   },
   "cell_type": "code",
   "source": "volatility.size",
   "id": "a179fc5c90ee5505",
   "outputs": [
    {
     "data": {
      "text/plain": [
       "501"
      ]
     },
     "execution_count": 13,
     "metadata": {},
     "output_type": "execute_result"
    }
   ],
   "execution_count": 13
  },
  {
   "metadata": {},
   "cell_type": "code",
   "outputs": [],
   "execution_count": null,
   "source": "",
   "id": "dedfe12d6e555371"
  }
 ],
 "metadata": {
  "kernelspec": {
   "display_name": "Python 3",
   "language": "python",
   "name": "python3"
  },
  "language_info": {
   "codemirror_mode": {
    "name": "ipython",
    "version": 2
   },
   "file_extension": ".py",
   "mimetype": "text/x-python",
   "name": "python",
   "nbconvert_exporter": "python",
   "pygments_lexer": "ipython2",
   "version": "2.7.6"
  }
 },
 "nbformat": 4,
 "nbformat_minor": 5
}
